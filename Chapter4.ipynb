{
 "metadata": {
  "name": "Chapter4"
 }, 
 "nbformat": 2, 
 "worksheets": [
  {
   "cells": [
    {
     "cell_type": "code", 
     "collapsed": false, 
     "input": [
      "from TurtleWorld import *"
     ], 
     "language": "python", 
     "outputs": [
      {
       "ename": "ImportError", 
       "evalue": "No module named TurtleWorld", 
       "output_type": "pyerr", 
       "traceback": [
        "<span class=\"ansired\">---------------------------------------------------------------------------</span>\n<span class=\"ansired\">ImportError</span>                               Traceback (most recent call last)", 
        "<span class=\"ansigreen\">/Users/londoniswalking/python/PHYS200/&lt;ipython-input-1-25843ad1ee42&gt;</span> in <span class=\"ansicyan\">&lt;module&gt;</span><span class=\"ansiblue\">()</span>\n<span class=\"ansigreen\">----&gt; 1</span><span class=\"ansired\"> </span><span class=\"ansigreen\">from</span> TurtleWorld <span class=\"ansigreen\">import</span> <span class=\"ansiblue\">*</span><span class=\"ansiblue\"></span>\n", 
        "<span class=\"ansired\">ImportError</span>: No module named TurtleWorld"
       ]
      }
     ], 
     "prompt_number": 1
    }, 
    {
     "cell_type": "code", 
     "collapsed": true, 
     "input": [], 
     "language": "python", 
     "outputs": [], 
     "prompt_number": "&nbsp;"
    }
   ]
  }
 ]
}