{
 "metadata": {
  "name": "Chapter1"
 }, 
 "nbformat": 2, 
 "worksheets": [
  {
   "cells": [
    {
     "cell_type": "code", 
     "collapsed": false, 
     "input": [
      "print 'Exercise 1'"
     ], 
     "language": "python", 
     "outputs": [
      {
       "output_type": "stream", 
       "stream": "stdout", 
       "text": [
        "Exercise 1"
       ]
      }
     ], 
     "prompt_number": 2
    }, 
    {
     "cell_type": "code", 
     "collapsed": false, 
     "input": [
      "print '$ is the root of all EV1L'"
     ], 
     "language": "python", 
     "outputs": [
      {
       "output_type": "stream", 
       "stream": "stdout", 
       "text": [
        "$ is the root of all EV1L"
       ]
      }
     ], 
     "prompt_number": 3
    }, 
    {
     "cell_type": "code", 
     "collapsed": false, 
     "input": [
      "print 'money root is all evil'"
     ], 
     "language": "python", 
     "outputs": [
      {
       "output_type": "stream", 
       "stream": "stdout", 
       "text": [
        "money root is all evil"
       ]
      }
     ], 
     "prompt_number": 4
    }, 
    {
     "cell_type": "code", 
     "collapsed": false, 
     "input": [
      "print 'Exercise 2'"
     ], 
     "language": "python", 
     "outputs": [
      {
       "output_type": "stream", 
       "stream": "stdout", 
       "text": [
        "Exercise 2"
       ]
      }
     ], 
     "prompt_number": 5
    }, 
    {
     "cell_type": "code", 
     "collapsed": false, 
     "input": [
      "print 'Went to python.org website!!!'"
     ], 
     "language": "python", 
     "outputs": [
      {
       "output_type": "stream", 
       "stream": "stdout", 
       "text": [
        "Went to python.org website!!!"
       ]
      }
     ], 
     "prompt_number": 6
    }, 
    {
     "cell_type": "code", 
     "collapsed": false, 
     "input": [
      "print 'Exercise 3'"
     ], 
     "language": "python", 
     "outputs": [
      {
       "output_type": "stream", 
       "stream": "stdout", 
       "text": [
        "Exercise 3"
       ]
      }
     ], 
     "prompt_number": 7
    }, 
    {
     "cell_type": "code", 
     "collapsed": false, 
     "input": [
      "help('print')"
     ], 
     "language": "python", 
     "outputs": [
      {
       "output_type": "stream", 
       "stream": "stdout", 
       "text": [
        "The &#96;&#96;print&#96;&#96; statement", 
        "***********************", 
        "", 
        "   print_stmt ::= &quot;print&quot; ([expression (&quot;,&quot; expression)* [&quot;,&quot;]]", 
        "                  | &quot;&gt;&gt;&quot; expression [(&quot;,&quot; expression)+ [&quot;,&quot;]])", 
        "", 
        "&#96;&#96;print&#96;&#96; evaluates each expression in turn and writes the resulting", 
        "object to standard output (see below).  If an object is not a string,", 
        "it is first converted to a string using the rules for string", 
        "conversions.  The (resulting or original) string is then written.  A", 
        "space is written before each object is (converted and) written, unless", 
        "the output system believes it is positioned at the beginning of a", 
        "line.  This is the case (1) when no characters have yet been written", 
        "to standard output, (2) when the last character written to standard", 
        "output is a whitespace character except &#96;&#96;&apos; &apos;&#96;&#96;, or (3) when the last", 
        "write operation on standard output was not a &#96;&#96;print&#96;&#96; statement. (In", 
        "some cases it may be functional to write an empty string to standard", 
        "output for this reason.)", 
        "", 
        "Note: Objects which act like file objects but which are not the built-in", 
        "  file objects often do not properly emulate this aspect of the file", 
        "  object&apos;s behavior, so it is best not to rely on this.", 
        "", 
        "A &#96;&#96;&apos;\\n&apos;&#96;&#96; character is written at the end, unless the &#96;&#96;print&#96;&#96;", 
        "statement ends with a comma.  This is the only action if the statement", 
        "contains just the keyword &#96;&#96;print&#96;&#96;.", 
        "", 
        "Standard output is defined as the file object named &#96;&#96;stdout&#96;&#96; in the", 
        "built-in module &#96;&#96;sys&#96;&#96;.  If no such object exists, or if it does not", 
        "have a &#96;&#96;write()&#96;&#96; method, a &#96;&#96;RuntimeError&#96;&#96; exception is raised.", 
        "", 
        "&#96;&#96;print&#96;&#96; also has an extended form, defined by the second portion of", 
        "the syntax described above. This form is sometimes referred to as", 
        "&quot;&#96;&#96;print&#96;&#96; chevron.&quot; In this form, the first expression after the", 
        "&#96;&#96;&gt;&gt;&#96;&#96; must evaluate to a &quot;file-like&quot; object, specifically an object", 
        "that has a &#96;&#96;write()&#96;&#96; method as described above.  With this extended", 
        "form, the subsequent expressions are printed to this file object.  If", 
        "the first expression evaluates to &#96;&#96;None&#96;&#96;, then &#96;&#96;sys.stdout&#96;&#96; is", 
        "used as the file for output.", 
        ""
       ]
      }
     ], 
     "prompt_number": 8
    }, 
    {
     "cell_type": "code", 
     "collapsed": false, 
     "input": [
      "print 'Exercise 4'"
     ], 
     "language": "python", 
     "outputs": [
      {
       "output_type": "stream", 
       "stream": "stdout", 
       "text": [
        "Exercise 4"
       ]
      }
     ], 
     "prompt_number": 9
    }, 
    {
     "cell_type": "code", 
     "collapsed": true, 
     "input": [
      "time = 43.5 # minutes"
     ], 
     "language": "python", 
     "outputs": [], 
     "prompt_number": 12
    }, 
    {
     "cell_type": "code", 
     "collapsed": true, 
     "input": [
      "distancekm = 10 # kilometers"
     ], 
     "language": "python", 
     "outputs": [], 
     "prompt_number": 13
    }, 
    {
     "cell_type": "code", 
     "collapsed": true, 
     "input": [
      "distancem = distancekm / 1.61"
     ], 
     "language": "python", 
     "outputs": [], 
     "prompt_number": 14
    }, 
    {
     "cell_type": "code", 
     "collapsed": false, 
     "input": [
      "time/distancem #minutes/mile"
     ], 
     "language": "python", 
     "outputs": [
      {
       "output_type": "pyout", 
       "prompt_number": 15, 
       "text": [
        "7.003500000000001"
       ]
      }
     ], 
     "prompt_number": 15
    }, 
    {
     "cell_type": "code", 
     "collapsed": true, 
     "input": [
      "timeh = time/60.0"
     ], 
     "language": "python", 
     "outputs": [], 
     "prompt_number": 16
    }, 
    {
     "cell_type": "code", 
     "collapsed": false, 
     "input": [
      "distancem/timeh #mph"
     ], 
     "language": "python", 
     "outputs": [
      {
       "output_type": "pyout", 
       "prompt_number": 17, 
       "text": [
        "8.567144998929106"
       ]
      }
     ], 
     "prompt_number": 17
    }, 
    {
     "cell_type": "code", 
     "collapsed": true, 
     "input": [], 
     "language": "python", 
     "outputs": [], 
     "prompt_number": "&nbsp;"
    }
   ]
  }
 ]
}