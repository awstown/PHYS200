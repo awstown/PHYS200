{
 "metadata": {
  "name": "Chapter3"
 }, 
 "nbformat": 2, 
 "worksheets": [
  {
   "cells": [
    {
     "cell_type": "markdown", 
     "source": [
      "Chapter 3 Exercises"
     ]
    }, 
    {
     "cell_type": "markdown", 
     "source": [
      "Exercise 1"
     ]
    }, 
    {
     "cell_type": "code", 
     "collapsed": false, 
     "input": [
      "repeat_lyrics()", 
      "", 
      "def print_lyrics():", 
      "    print \"I'm a lumberjack, and I'm okay.\"", 
      "    print \"I sleep all night and I work all day.\"", 
      "", 
      "def repeat_lyrics():", 
      "    print_lyrics()", 
      "    print_lyrics()"
     ], 
     "language": "python", 
     "outputs": [
      {
       "ename": "NameError", 
       "evalue": "name 'repeat_lyrics' is not defined", 
       "output_type": "pyerr", 
       "traceback": [
        "<span class=\"ansired\">---------------------------------------------------------------------------</span>\n<span class=\"ansired\">NameError</span>                                 Traceback (most recent call last)", 
        "<span class=\"ansigreen\">/Users/londoniswalking/python/PHYS200/&lt;ipython-input-1-cd20dab0c1e1&gt;</span> in <span class=\"ansicyan\">&lt;module&gt;</span><span class=\"ansiblue\">()</span>\n<span class=\"ansigreen\">----&gt; 1</span><span class=\"ansired\"> </span>repeat_lyrics<span class=\"ansiblue\">(</span><span class=\"ansiblue\">)</span><span class=\"ansiblue\"></span>\n<span class=\"ansigreen\">      2</span> <span class=\"ansiblue\"></span>\n<span class=\"ansigreen\">      3</span> <span class=\"ansigreen\">def</span> print_lyrics<span class=\"ansiblue\">(</span><span class=\"ansiblue\">)</span><span class=\"ansiblue\">:</span><span class=\"ansiblue\"></span>\n<span class=\"ansigreen\">      4</span>     <span class=\"ansigreen\">print</span> <span class=\"ansiblue\">&quot;I&apos;m a lumberjack, and I&apos;m okay.&quot;</span><span class=\"ansiblue\"></span>\n<span class=\"ansigreen\">      5</span>     <span class=\"ansigreen\">print</span> <span class=\"ansiblue\">&quot;I sleep all night and I work all day.&quot;</span><span class=\"ansiblue\"></span>\n", 
        "<span class=\"ansired\">NameError</span>: name &apos;repeat_lyrics&apos; is not defined"
       ]
      }
     ], 
     "prompt_number": 1
    }, 
    {
     "cell_type": "markdown", 
     "source": [
      "Exercise 2"
     ]
    }, 
    {
     "cell_type": "code", 
     "collapsed": false, 
     "input": [
      "def print_lyrics():", 
      "    print \"I'm a lumberjack, and I'm okay.\"", 
      "    print \"I sleep all night and I work all day.\"", 
      "", 
      "def repeat_lyrics():", 
      "    print_lyrics()", 
      "    print_lyrics()", 
      "    ", 
      "repeat_lyrics()"
     ], 
     "language": "python", 
     "outputs": [
      {
       "output_type": "stream", 
       "stream": "stdout", 
       "text": [
        "I&apos;m a lumberjack, and I&apos;m okay.", 
        "I sleep all night and I work all day.", 
        "I&apos;m a lumberjack, and I&apos;m okay.", 
        "I sleep all night and I work all day."
       ]
      }
     ], 
     "prompt_number": 2
    }, 
    {
     "cell_type": "markdown", 
     "source": [
      "It prints out the lyrics to the screen."
     ]
    }, 
    {
     "cell_type": "markdown", 
     "source": [
      "Exercise 3"
     ]
    }, 
    {
     "cell_type": "code", 
     "collapsed": true, 
     "input": [
      "def right_justify(string):", 
      "    length = len(string)", 
      "    shift = 70 - length", 
      "    print ' '*shift + string"
     ], 
     "language": "python", 
     "outputs": [], 
     "prompt_number": 17
    }, 
    {
     "cell_type": "code", 
     "collapsed": false, 
     "input": [
      "right_justify('allen')"
     ], 
     "language": "python", 
     "outputs": [
      {
       "output_type": "stream", 
       "stream": "stdout", 
       "text": [
        "                                                                 allen"
       ]
      }
     ], 
     "prompt_number": 18
    }, 
    {
     "cell_type": "markdown", 
     "source": [
      "Exercise 4"
     ]
    }, 
    {
     "cell_type": "code", 
     "collapsed": true, 
     "input": [
      "def do_twice(f, string):", 
      "    f(string)", 
      "    f(string)", 
      "    ", 
      "def print_twice(string):", 
      "    print string"
     ], 
     "language": "python", 
     "outputs": [], 
     "prompt_number": 23
    }, 
    {
     "cell_type": "code", 
     "collapsed": false, 
     "input": [
      "do_twice(print_twice, 'spam')"
     ], 
     "language": "python", 
     "outputs": [
      {
       "output_type": "stream", 
       "stream": "stdout", 
       "text": [
        "spam", 
        "spam"
       ]
      }
     ], 
     "prompt_number": 27
    }, 
    {
     "cell_type": "code", 
     "collapsed": true, 
     "input": [
      "def do_four(f, string):", 
      "    do_twice(f, string)", 
      "    do_twice(f, string)"
     ], 
     "language": "python", 
     "outputs": [], 
     "prompt_number": 28
    }, 
    {
     "cell_type": "markdown", 
     "source": [
      "Exercise 5"
     ]
    }, 
    {
     "cell_type": "code", 
     "collapsed": true, 
     "input": [
      "def do_twice(f):", 
      "    f()", 
      "    f()", 
      "", 
      "def do_four(f):", 
      "    do_twice(f)", 
      "    do_twice(f)", 
      "", 
      "def print_beam():", 
      "    print '+ - - - -',", 
      "", 
      "def print_post():", 
      "    print '|        ',", 
      "", 
      "def print_beams():", 
      "    do_twice(print_beam)", 
      "    print '+'", 
      "", 
      "def print_posts():", 
      "    do_twice(print_post)", 
      "    print '|'", 
      "", 
      "def print_row():", 
      "    print_beams()", 
      "    do_four(print_posts)", 
      "", 
      "def print_grid():", 
      "    do_twice(print_row)", 
      "    print_beams()"
     ], 
     "language": "python", 
     "outputs": [], 
     "prompt_number": 29
    }, 
    {
     "cell_type": "code", 
     "collapsed": false, 
     "input": [
      "print_grid()"
     ], 
     "language": "python", 
     "outputs": [
      {
       "output_type": "stream", 
       "stream": "stdout", 
       "text": [
        "+ - - - - + - - - - +", 
        "|         |         |", 
        "|         |         |", 
        "|         |         |", 
        "|         |         |", 
        "+ - - - - + - - - - +", 
        "|         |         |", 
        "|         |         |", 
        "|         |         |", 
        "|         |         |", 
        "+ - - - - + - - - - +"
       ]
      }
     ], 
     "prompt_number": 30
    }
   ]
  }
 ]
}